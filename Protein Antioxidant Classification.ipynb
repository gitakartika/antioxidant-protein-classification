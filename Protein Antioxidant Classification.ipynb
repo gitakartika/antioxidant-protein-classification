{
  "nbformat": 4,
  "nbformat_minor": 0,
  "metadata": {
    "colab": {
      "name": "Antioxidan Protein Klasifikasi.ipynb",
      "provenance": [],
      "collapsed_sections": [],
      "include_colab_link": true
    },
    "kernelspec": {
      "name": "python3",
      "display_name": "Python 3"
    }
  },
  "cells": [
    {
      "cell_type": "markdown",
      "metadata": {
        "id": "view-in-github",
        "colab_type": "text"
      },
      "source": [
        "<a href=\"https://colab.research.google.com/github/gitakartika/related-projects/blob/master/Protein%20Antioxidant%20Classification.ipynb\" target=\"_parent\"><img src=\"https://colab.research.google.com/assets/colab-badge.svg\" alt=\"Open In Colab\"/></a>"
      ]
    },
    {
      "cell_type": "code",
      "metadata": {
        "id": "IF6iYK_ywt9s",
        "colab_type": "code",
        "colab": {}
      },
      "source": [
        "from google.colab import drive\n",
        "drive.mount('/content/drive')"
      ],
      "execution_count": 0,
      "outputs": []
    },
    {
      "cell_type": "code",
      "metadata": {
        "id": "8rldOHcF0hZK",
        "colab_type": "code",
        "colab": {}
      },
      "source": [
        "pip install biopython"
      ],
      "execution_count": 0,
      "outputs": []
    },
    {
      "cell_type": "code",
      "metadata": {
        "id": "6HHCadWgoUt3",
        "colab_type": "code",
        "colab": {}
      },
      "source": [
        "pip install discere"
      ],
      "execution_count": 0,
      "outputs": []
    },
    {
      "cell_type": "code",
      "metadata": {
        "id": "32mmfRSTwav3",
        "colab_type": "code",
        "colab": {}
      },
      "source": [
        "import pandas as pd\n",
        "import numpy as np\n",
        "import seaborn as sns\n",
        "import matplotlib.pyplot as plt\n",
        "import discere.discere as di\n",
        "import itertools as it\n",
        "import os,pickle\n",
        "import shutil, pkg_resources\n",
        "from Bio import SeqIO\n",
        "from Bio.SeqUtils.ProtParam import ProteinAnalysis\n",
        "from sklearn.preprocessing import LabelEncoder, StandardScaler\n",
        "from sklearn.model_selection import train_test_split,cross_val_score, GridSearchCV, StratifiedKFold\n",
        "from sklearn.svm import SVC\n",
        "from sklearn import metrics\n",
        "from sklearn.decomposition import PCA\n",
        "from itertools import cycle\n",
        "from sklearn.ensemble import ExtraTreesClassifier,RandomForestClassifier\n",
        "import matplotlib.pyplot as plt\n",
        "from matplotlib.pyplot import figure\n",
        "from sklearn.feature_selection import RFECV\n",
        "from sklearn.metrics import make_scorer, accuracy_score"
      ],
      "execution_count": 0,
      "outputs": []
    },
    {
      "cell_type": "code",
      "metadata": {
        "id": "NRarQolLsrSX",
        "colab_type": "code",
        "colab": {}
      },
      "source": [
        "di.extract_feature('/content/drive/My Drive/PemodelanMatematika/positive_training.fasta', \n",
        "                     '/content/drive/My Drive/PemodelanMatematika/negative_training.fasta', \n",
        "                     '/content/drive/My Drive/PemodelanMatematika')"
      ],
      "execution_count": 0,
      "outputs": []
    },
    {
      "cell_type": "code",
      "metadata": {
        "id": "JcKUEaScSpaA",
        "colab_type": "code",
        "colab": {}
      },
      "source": [
        "df = pd.read_csv('/content/drive/My Drive/PemodelanMatematika/output/tain_DL.csv',header=None)"
      ],
      "execution_count": 0,
      "outputs": []
    },
    {
      "cell_type": "code",
      "metadata": {
        "id": "y31dp4QJWJT2",
        "colab_type": "code",
        "colab": {}
      },
      "source": [
        "df.head()"
      ],
      "execution_count": 0,
      "outputs": []
    },
    {
      "cell_type": "code",
      "metadata": {
        "id": "w-8uFuAexh0b",
        "colab_type": "code",
        "colab": {}
      },
      "source": [
        "df.shape"
      ],
      "execution_count": 0,
      "outputs": []
    },
    {
      "cell_type": "code",
      "metadata": {
        "id": "GEv91tSPxfVs",
        "colab_type": "code",
        "colab": {}
      },
      "source": [
        "df.isnull().sum()"
      ],
      "execution_count": 0,
      "outputs": []
    },
    {
      "cell_type": "code",
      "metadata": {
        "id": "0BjPkaD1xkGx",
        "colab_type": "code",
        "colab": {}
      },
      "source": [
        "print(\"Total number of labels: {}\".format(df.shape[0]))\n",
        "print(\"Number of Non-Antioxidant Protein: {}\".format(df[df[27] == 0].shape[0]))\n",
        "print(\"Number of Antioxidant Protein: {}\".format(df[df[27] == 1].shape[0]))"
      ],
      "execution_count": 0,
      "outputs": []
    },
    {
      "cell_type": "code",
      "metadata": {
        "id": "Xl3Mt-PNxYh8",
        "colab_type": "code",
        "colab": {}
      },
      "source": [
        "df.corr()"
      ],
      "execution_count": 0,
      "outputs": []
    },
    {
      "cell_type": "code",
      "metadata": {
        "id": "K-T9yk3ZXJ3S",
        "colab_type": "code",
        "colab": {}
      },
      "source": [
        "figure(num=None, figsize=(20, 10), dpi=80, facecolor='w', edgecolor='k')\n",
        "sns.heatmap(df.corr(),annot=True)"
      ],
      "execution_count": 0,
      "outputs": []
    },
    {
      "cell_type": "code",
      "metadata": {
        "id": "vAlWiAr_x6bO",
        "colab_type": "code",
        "colab": {}
      },
      "source": [
        "X=df.iloc[:, :-1]\n",
        "X.head()"
      ],
      "execution_count": 0,
      "outputs": []
    },
    {
      "cell_type": "code",
      "metadata": {
        "id": "fIjLjvjlyNes",
        "colab_type": "code",
        "colab": {}
      },
      "source": [
        "y=df.iloc[:,-1]\n",
        "\n",
        "def_encoder = LabelEncoder()\n",
        "y = def_encoder.fit_transform(y)\n",
        "y"
      ],
      "execution_count": 0,
      "outputs": []
    },
    {
      "cell_type": "code",
      "metadata": {
        "id": "LDycj0wVdb9y",
        "colab_type": "code",
        "colab": {}
      },
      "source": [
        "correlated_features = set()\n",
        "correlation_matrix = df.drop(27, axis=1).corr()\n",
        "\n",
        "for i in range(len(correlation_matrix.columns)):\n",
        "    for j in range(i):\n",
        "        if abs(correlation_matrix.iloc[i, j]) > 0.8:\n",
        "            colname = correlation_matrix.columns[i]\n",
        "            correlated_features.add(colname)"
      ],
      "execution_count": 0,
      "outputs": []
    },
    {
      "cell_type": "code",
      "metadata": {
        "id": "WwzYrIS2dsne",
        "colab_type": "code",
        "colab": {}
      },
      "source": [
        "list(correlated_features)"
      ],
      "execution_count": 0,
      "outputs": []
    },
    {
      "cell_type": "code",
      "metadata": {
        "id": "swF3bAZAetmC",
        "colab_type": "code",
        "colab": {}
      },
      "source": [
        "X = X.drop(list(correlated_features),axis=1)\n",
        "target = y\n",
        "\n",
        "rfc = RandomForestClassifier(random_state=101)\n",
        "rfecv = RFECV(estimator=rfc, step=1, cv=StratifiedKFold(10), scoring='accuracy')\n",
        "rfecv.fit(X, target)"
      ],
      "execution_count": 0,
      "outputs": []
    },
    {
      "cell_type": "code",
      "metadata": {
        "id": "D8HijCD0f2O9",
        "colab_type": "code",
        "colab": {}
      },
      "source": [
        "print('Optimal number of features: {}'.format(rfecv.n_features_))"
      ],
      "execution_count": 0,
      "outputs": []
    },
    {
      "cell_type": "code",
      "metadata": {
        "id": "PpXSYJoGf3I0",
        "colab_type": "code",
        "colab": {}
      },
      "source": [
        "plt.figure(figsize=(16, 9))\n",
        "plt.title('Recursive Feature Elimination dengan Cross-Validation', fontsize=18, fontweight='bold', pad=20)\n",
        "plt.xlabel('Banyaknya Fitur yang Dipilih', fontsize=14, labelpad=20)\n",
        "plt.ylabel('% Akurasi', fontsize=14, labelpad=20)\n",
        "plt.plot(range(1, len(rfecv.grid_scores_) + 1), rfecv.grid_scores_, color='#303F9F', linewidth=3)\n",
        "\n",
        "plt.show()"
      ],
      "execution_count": 0,
      "outputs": []
    },
    {
      "cell_type": "code",
      "metadata": {
        "id": "j7U0nYcSgDq-",
        "colab_type": "code",
        "colab": {}
      },
      "source": [
        "print(np.where(rfecv.support_ == False)[0])\n",
        "\n",
        "X.drop(X.columns[np.where(rfecv.support_ == False)[0]], axis=1, inplace=True)"
      ],
      "execution_count": 0,
      "outputs": []
    },
    {
      "cell_type": "code",
      "metadata": {
        "id": "aWcHP7qPgHvm",
        "colab_type": "code",
        "colab": {}
      },
      "source": [
        "rfecv.estimator_.feature_importances_"
      ],
      "execution_count": 0,
      "outputs": []
    },
    {
      "cell_type": "code",
      "metadata": {
        "id": "oaKsdLeUgWuk",
        "colab_type": "code",
        "colab": {}
      },
      "source": [
        "dset = pd.DataFrame()\n",
        "dset['attr'] = X.columns\n",
        "dset['importance'] = rfecv.estimator_.feature_importances_\n",
        "dset['attr']=dset['attr'].astype(str)\n",
        "dset = dset.sort_values(by='importance', ascending=False)\n",
        "\n",
        "\n",
        "plt.figure(figsize=(16, 14))\n",
        "plt.barh(y=dset['attr'], width=dset['importance'], color='#1976D2')\n",
        "plt.title('RFECV - Kepentingan Fitur', fontsize=20, fontweight='bold', pad=20)\n",
        "plt.xlabel('Nilai Kepentingan Fitur', fontsize=14, labelpad=20)\n",
        "plt.show()"
      ],
      "execution_count": 0,
      "outputs": []
    },
    {
      "cell_type": "code",
      "metadata": {
        "id": "7_qO8U8lgsRT",
        "colab_type": "code",
        "colab": {}
      },
      "source": [
        "X.columns"
      ],
      "execution_count": 0,
      "outputs": []
    },
    {
      "cell_type": "code",
      "metadata": {
        "id": "jDjU9hJZ7ZxG",
        "colab_type": "code",
        "colab": {}
      },
      "source": [
        "scaler = StandardScaler()\n",
        "scaler.fit(X)\n",
        "X = scaler.transform(X)"
      ],
      "execution_count": 0,
      "outputs": []
    },
    {
      "cell_type": "code",
      "metadata": {
        "id": "g25R1IqA7ndt",
        "colab_type": "code",
        "colab": {}
      },
      "source": [
        "X_train, X_test, y_train, y_test = train_test_split(X, y, test_size=0.2, random_state=1)"
      ],
      "execution_count": 0,
      "outputs": []
    },
    {
      "cell_type": "code",
      "metadata": {
        "id": "Qyowz_UvtOur",
        "colab_type": "code",
        "colab": {}
      },
      "source": [
        "def plot_svc_decision_function(model, ax=None, plot_support=True):\n",
        "    \"\"\"Plot the decision function for a 2D SVC\"\"\"\n",
        "    if ax is None:\n",
        "        ax = plt.gca()\n",
        "    xlim = ax.get_xlim()\n",
        "    ylim = ax.get_ylim()\n",
        "    \n",
        "    # create grid to evaluate model\n",
        "    x = np.linspace(xlim[0], xlim[1], 30)\n",
        "    y = np.linspace(ylim[0], ylim[1], 30)\n",
        "    Y, X = np.meshgrid(y, x)\n",
        "    xy = np.vstack([X.ravel(), Y.ravel()]).T\n",
        "    P = model.decision_function(xy).reshape(X.shape)\n",
        "    \n",
        "    # plot decision boundary and margins\n",
        "    ax.contour(X, Y, P, colors='k',\n",
        "               levels=[-1, 0, 1], alpha=0.5,\n",
        "               linestyles=['--', '-', '--'])\n",
        "    \n",
        "    # plot support vectors\n",
        "    if plot_support:\n",
        "        ax.scatter(model.support_vectors_[:, 0],\n",
        "                   model.support_vectors_[:, 1],\n",
        "                   s=300, linewidth=1, facecolors='none');\n",
        "    ax.set_xlim(xlim)\n",
        "    ax.set_ylim(ylim)"
      ],
      "execution_count": 0,
      "outputs": []
    },
    {
      "cell_type": "code",
      "metadata": {
        "id": "OXkdSZLXuhvy",
        "colab_type": "code",
        "colab": {}
      },
      "source": [
        "pca = PCA(n_components=2, whiten=True).fit(X)\n",
        "X_pca = pca.transform(X)\n",
        "print(\"explained variance ratio:\", pca.explained_variance_ratio_)\n",
        "print(\"Preserved Variance:\", sum(pca.explained_variance_ratio_))\n",
        "\n",
        "# Print scatter plot to view classification of the simplified dataset\n",
        "colors = cycle('rgb')\n",
        "target_names = [0, 1]\n",
        "\n",
        "plt.figure()\n",
        "\n",
        "target_list = np.array(y).flatten()\n",
        "for t_name, c in zip(target_names, colors):\n",
        "    plt.scatter(X_pca[target_list == t_name, 0], X_pca[target_list ==t_name, 1], c=c, label=t_name)\n",
        "\n",
        "plt.legend()\n",
        "plt.show()"
      ],
      "execution_count": 0,
      "outputs": []
    },
    {
      "cell_type": "code",
      "metadata": {
        "id": "cxtNSXyQ-RRB",
        "colab_type": "code",
        "colab": {}
      },
      "source": [
        "X_train_pca, X_test_pca, y_train_pca, y_test_pca = train_test_split(X_pca, y, test_size=0.2, random_state=1)\n",
        "\n",
        "svc=SVC()\n",
        "svc.fit(X_train_pca,y_train_pca)\n",
        "y_pred=svc.predict(X_test_pca)\n",
        "print('Accuracy Score:')\n",
        "print(metrics.accuracy_score(y_test_pca,y_pred))"
      ],
      "execution_count": 0,
      "outputs": []
    },
    {
      "cell_type": "code",
      "metadata": {
        "id": "JGj7D6SYABCp",
        "colab_type": "code",
        "colab": {}
      },
      "source": [
        "plt.scatter(X_pca[:, 0], X_pca[:, 1], c=y, s=50, cmap='autumn');\n",
        "plot_svc_decision_function(svc)"
      ],
      "execution_count": 0,
      "outputs": []
    },
    {
      "cell_type": "code",
      "metadata": {
        "id": "uuhFtH577rtQ",
        "colab_type": "code",
        "colab": {}
      },
      "source": [
        "svc=SVC()\n",
        "svc.fit(X_train,y_train)\n",
        "y_pred=svc.predict(X_test)\n",
        "print('Accuracy Score:')\n",
        "print(metrics.accuracy_score(y_test,y_pred))"
      ],
      "execution_count": 0,
      "outputs": []
    },
    {
      "cell_type": "code",
      "metadata": {
        "id": "EOv1t1EE7yEU",
        "colab_type": "code",
        "colab": {}
      },
      "source": [
        "svc=SVC(kernel='linear')\n",
        "svc.fit(X_train,y_train)\n",
        "y_pred=svc.predict(X_test)\n",
        "print('Accuracy Score:')\n",
        "print(metrics.accuracy_score(y_test,y_pred))"
      ],
      "execution_count": 0,
      "outputs": []
    },
    {
      "cell_type": "code",
      "metadata": {
        "id": "7OiEVcNc75Zy",
        "colab_type": "code",
        "colab": {}
      },
      "source": [
        "svc=SVC(kernel='rbf')\n",
        "svc.fit(X_train,y_train)\n",
        "y_pred=svc.predict(X_test)\n",
        "print('Accuracy Score:')\n",
        "print(metrics.accuracy_score(y_test,y_pred))"
      ],
      "execution_count": 0,
      "outputs": []
    },
    {
      "cell_type": "code",
      "metadata": {
        "id": "qzjrgU7q7836",
        "colab_type": "code",
        "colab": {}
      },
      "source": [
        "svc=SVC(kernel='poly')\n",
        "svc.fit(X_train,y_train)\n",
        "y_pred=svc.predict(X_test)\n",
        "print('Accuracy Score:')\n",
        "print(metrics.accuracy_score(y_test,y_pred))"
      ],
      "execution_count": 0,
      "outputs": []
    },
    {
      "cell_type": "markdown",
      "metadata": {
        "id": "kjNz_AHkPAYe",
        "colab_type": "text"
      },
      "source": [
        "# Cross Validation"
      ]
    },
    {
      "cell_type": "code",
      "metadata": {
        "id": "vCA1552Q8AG5",
        "colab_type": "code",
        "colab": {}
      },
      "source": [
        "svc=SVC(kernel='linear')\n",
        "scores = cross_val_score(svc, X, y, cv=5, scoring='accuracy')\n",
        "print(scores)\n",
        "print(scores.mean())"
      ],
      "execution_count": 0,
      "outputs": []
    },
    {
      "cell_type": "code",
      "metadata": {
        "id": "H41UoWj-8v56",
        "colab_type": "code",
        "colab": {}
      },
      "source": [
        "svc=SVC(kernel='rbf')\n",
        "scores = cross_val_score(svc, X, y, cv=5, scoring='accuracy') \n",
        "print(scores)\n",
        "print(scores.mean())"
      ],
      "execution_count": 0,
      "outputs": []
    },
    {
      "cell_type": "code",
      "metadata": {
        "id": "PWkD8Lij84Jj",
        "colab_type": "code",
        "colab": {}
      },
      "source": [
        "svc=SVC()\n",
        "scores = cross_val_score(svc, X, y, cv=5, scoring='accuracy') \n",
        "print(scores)\n",
        "print(scores.mean())"
      ],
      "execution_count": 0,
      "outputs": []
    },
    {
      "cell_type": "code",
      "metadata": {
        "id": "nv9jWGScbZG8",
        "colab_type": "code",
        "colab": {}
      },
      "source": [
        "svc=SVC(kernel='poly')\n",
        "scores = cross_val_score(svc, X, y, cv=5, scoring='accuracy') \n",
        "print(scores)\n",
        "print(scores.mean())"
      ],
      "execution_count": 0,
      "outputs": []
    },
    {
      "cell_type": "code",
      "metadata": {
        "id": "v0o1EG0x84lE",
        "colab_type": "code",
        "colab": {}
      },
      "source": [
        "C_range=list(np.arange(1,10,0.5))\n",
        "acc_score=[]\n",
        "for c in C_range:\n",
        "    svc = SVC(kernel='linear', C=c)\n",
        "    scores = cross_val_score(svc, X, y, cv=5, scoring='accuracy')\n",
        "    acc_score.append(scores.mean())\n",
        "\n",
        "C_values=list(np.arange(1,10,0.5))\n",
        "figure(num=None, figsize=(10, 6), dpi=80, facecolor='w', edgecolor='k')\n",
        "plt.plot(C_values,acc_score)\n",
        "plt.xticks(np.arange(1,10,1))\n",
        "plt.xlabel('Value of C for SVC')\n",
        "plt.ylabel('Cross-Validated Accuracy')"
      ],
      "execution_count": 0,
      "outputs": []
    },
    {
      "cell_type": "code",
      "metadata": {
        "id": "tw5yxa5t9FRs",
        "colab_type": "code",
        "colab": {}
      },
      "source": [
        "C_range=list(np.arange(3,5,0.1))\n",
        "acc_score=[]\n",
        "for c in C_range:\n",
        "    svc = SVC(kernel='linear', C=c)\n",
        "    scores = cross_val_score(svc, X, y, cv=5, scoring='accuracy')\n",
        "    acc_score.append(scores.mean())\n",
        "\n",
        "C_values=list(np.arange(3,5,0.1))\n",
        "figure(num=None, figsize=(10, 6), dpi=80, facecolor='w', edgecolor='k')\n",
        "plt.plot(C_values,acc_score)\n",
        "plt.xticks(np.arange(3,5,0.1))\n",
        "plt.xlabel('Value of C for SVC ')\n",
        "plt.ylabel('Cross-Validated Accuracy')"
      ],
      "execution_count": 0,
      "outputs": []
    },
    {
      "cell_type": "code",
      "metadata": {
        "id": "-lqbAFiQ9Qmd",
        "colab_type": "code",
        "colab": {}
      },
      "source": [
        "gamma_range=list(np.arange(0.1,5,0.1))\n",
        "acc_score=[]\n",
        "for g in gamma_range:\n",
        "    svc = SVC(kernel='rbf', gamma=g)\n",
        "    scores = cross_val_score(svc, X, y, cv=5, scoring='accuracy')\n",
        "    acc_score.append(scores.mean())\n",
        "\n",
        "figure(num=None, figsize=(10, 6), dpi=80, facecolor='w', edgecolor='k')\n",
        "plt.plot(gamma_range,acc_score)\n",
        "plt.xlabel('Value of gamma for SVC ')\n",
        "plt.xticks(np.arange(0.1,5,0.1))\n",
        "plt.ylabel('Cross-Validated Accuracy')"
      ],
      "execution_count": 0,
      "outputs": []
    },
    {
      "cell_type": "code",
      "metadata": {
        "id": "dUErLbb_9i4y",
        "colab_type": "code",
        "colab": {}
      },
      "source": [
        "gamma_range=list(np.arange(0.3,0.45,0.005))\n",
        "acc_score=[]\n",
        "for g in gamma_range:\n",
        "    svc = SVC(kernel='rbf', gamma=g)\n",
        "    scores = cross_val_score(svc, X, y, cv=5, scoring='accuracy')\n",
        "    acc_score.append(scores.mean())\n",
        "\n",
        "figure(num=None, figsize=(10, 6), dpi=80, facecolor='w', edgecolor='k')\n",
        "plt.plot(gamma_range,acc_score)\n",
        "plt.xlabel('Value of gamma for SVC ')\n",
        "plt.ylabel('Cross-Validated Accuracy')"
      ],
      "execution_count": 0,
      "outputs": []
    },
    {
      "cell_type": "code",
      "metadata": {
        "id": "amd4UeXn9uE-",
        "colab_type": "code",
        "colab": {}
      },
      "source": [
        "degree=[1,2,3,4,5,6,7,8,9,10]\n",
        "acc_score=[]\n",
        "for d in degree:\n",
        "    svc = SVC(kernel='poly', degree=d)\n",
        "    scores = cross_val_score(svc, X, y, cv=5, scoring='accuracy')\n",
        "    acc_score.append(scores.mean())\n",
        "    \n",
        "figure(num=None, figsize=(10, 6), dpi=80, facecolor='w', edgecolor='k')\n",
        "plt.plot(degree,acc_score,color='r')\n",
        "plt.xlabel('degrees for SVC ')\n",
        "plt.ylabel('Cross-Validated Accuracy')"
      ],
      "execution_count": 0,
      "outputs": []
    },
    {
      "cell_type": "code",
      "metadata": {
        "id": "gy7twsvR91m2",
        "colab_type": "code",
        "colab": {}
      },
      "source": [
        "svc= SVC(kernel='linear',C=3.5)\n",
        "svc.fit(X_train,y_train)\n",
        "y_predict=svc.predict(X_test)\n",
        "accuracy_score= metrics.accuracy_score(y_test,y_predict)\n",
        "print('Akurasi:',accuracy_score)\n",
        "\n",
        "scores = cross_val_score(svc, X, y, cv=5, scoring='accuracy')\n",
        "print('Skor CV:',scores)\n",
        "print('Mean Skor CV:',scores.mean())"
      ],
      "execution_count": 0,
      "outputs": []
    },
    {
      "cell_type": "code",
      "metadata": {
        "id": "gm16oNav-HYN",
        "colab_type": "code",
        "colab": {}
      },
      "source": [
        "svc= SVC(kernel='rbf',gamma=0.31)\n",
        "svc.fit(X_train,y_train)\n",
        "y_predict=svc.predict(X_test)\n",
        "accuracy_score=metrics.accuracy_score(y_test,y_predict)\n",
        "print('Akurasi:',accuracy_score)\n",
        "\n",
        "scores = cross_val_score(svc, X, y, cv=5, scoring='accuracy')\n",
        "print('Skor CV:',scores)\n",
        "print('Mean Skor CV:',scores.mean())"
      ],
      "execution_count": 0,
      "outputs": []
    },
    {
      "cell_type": "code",
      "metadata": {
        "id": "h3Zwu0lC-Hf7",
        "colab_type": "code",
        "colab": {}
      },
      "source": [
        "svc=SVC(kernel='linear',gamma=0.31)\n",
        "svc.fit(X_train,y_train)\n",
        "y_predict=svc.predict(X_test)\n",
        "accuracy_score=metrics.accuracy_score(y_test,y_predict)\n",
        "print('Akurasi:',accuracy_score)\n",
        "\n",
        "scores = cross_val_score(svc, X, y, cv=5, scoring='accuracy')\n",
        "print('Skor CV:',scores)\n",
        "print('Mean Skor CV:',scores.mean())"
      ],
      "execution_count": 0,
      "outputs": []
    },
    {
      "cell_type": "code",
      "metadata": {
        "id": "BeX5lt2P-HjH",
        "colab_type": "code",
        "colab": {}
      },
      "source": [
        "svc= SVC(kernel='poly',degree=7)\n",
        "svc.fit(X_train,y_train)\n",
        "y_predict=svc.predict(X_test)\n",
        "accuracy_score= metrics.accuracy_score(y_test,y_predict)\n",
        "print('Akurasi:',accuracy_score)\n",
        "\n",
        "scores = cross_val_score(svc, X, y, cv=5, scoring='accuracy')\n",
        "print('Skor CV:',scores)\n",
        "print('Mean Skor CV:',scores.mean())"
      ],
      "execution_count": 0,
      "outputs": []
    },
    {
      "cell_type": "code",
      "metadata": {
        "id": "Ym4NOyIc-HsK",
        "colab_type": "code",
        "colab": {}
      },
      "source": [
        "svm_model= SVC()\n",
        "tuned_parameters = {'C': np.arange(3,3.7,0.1) ,\n",
        "                    'kernel': ['linear','rbf','poly'],\n",
        "                    'gamma': np.arange(0.3,0.45,0.005),\n",
        "                    'degree': [6,7,8]} \n",
        "model_svm = GridSearchCV(svm_model, tuned_parameters,cv=5,scoring='accuracy',return_train_score=True)"
      ],
      "execution_count": 0,
      "outputs": []
    },
    {
      "cell_type": "code",
      "metadata": {
        "id": "szRkdkVc-fDs",
        "colab_type": "code",
        "colab": {}
      },
      "source": [
        "model_svm.fit(X_train, y_train)\n",
        "print(model_svm.best_score_)"
      ],
      "execution_count": 0,
      "outputs": []
    },
    {
      "cell_type": "code",
      "metadata": {
        "id": "nheLNDUc-qmH",
        "colab_type": "code",
        "colab": {}
      },
      "source": [
        "print(model_svm.best_params_)"
      ],
      "execution_count": 0,
      "outputs": []
    },
    {
      "cell_type": "code",
      "metadata": {
        "id": "L6iK47Rf-uxh",
        "colab_type": "code",
        "colab": {}
      },
      "source": [
        "y_pred= model_svm.predict(X_test)\n",
        "print('Akurasi:',metrics.accuracy_score(y_pred,y_test))"
      ],
      "execution_count": 0,
      "outputs": []
    },
    {
      "cell_type": "code",
      "metadata": {
        "id": "YSbJBLbSJaEh",
        "colab_type": "code",
        "colab": {}
      },
      "source": [
        "#Buat cek overfitting ato ga\n",
        "y_of=model_svm.predict(X_train)\n",
        "print('Akurasi:',metrics.accuracy_score(y_of,y_train))"
      ],
      "execution_count": 0,
      "outputs": []
    },
    {
      "cell_type": "code",
      "metadata": {
        "id": "ooH31F64KI4h",
        "colab_type": "code",
        "colab": {}
      },
      "source": [
        "#Kalo nilai akurasi validasi jauh lebih rendah dibanding akurasi trainnya maka overfit (ini ga)\n",
        "scores=cross_val_score(model_svm,X_train,y_train,cv=5)\n",
        "print(\"Accuracy: %0.2f (+/- %0.2f)\" % (scores.mean(), scores.std() * 2))"
      ],
      "execution_count": 0,
      "outputs": []
    },
    {
      "cell_type": "markdown",
      "metadata": {
        "id": "8tReb66BsoRv",
        "colab_type": "text"
      },
      "source": [
        "### DI BAWAH INI YANG NYOBA PAKAI FITUR DATASET PROTEIN BENERAN"
      ]
    },
    {
      "cell_type": "code",
      "metadata": {
        "id": "zERId7odb9EV",
        "colab_type": "code",
        "outputId": "cf729bd0-82ec-4e72-a5d5-dcd2739ae742",
        "colab": {
          "base_uri": "https://localhost:8080/",
          "height": 151
        }
      },
      "source": [
        "pip install discere"
      ],
      "execution_count": 0,
      "outputs": [
        {
          "output_type": "stream",
          "text": [
            "Requirement already satisfied: discere in /usr/local/lib/python3.6/dist-packages (0.0.4)\n",
            "Requirement already satisfied: biopython in /usr/local/lib/python3.6/dist-packages (from discere) (1.76)\n",
            "Requirement already satisfied: pandas in /usr/local/lib/python3.6/dist-packages (from discere) (1.0.3)\n",
            "Requirement already satisfied: numpy in /usr/local/lib/python3.6/dist-packages (from biopython->discere) (1.18.4)\n",
            "Requirement already satisfied: pytz>=2017.2 in /usr/local/lib/python3.6/dist-packages (from pandas->discere) (2018.9)\n",
            "Requirement already satisfied: python-dateutil>=2.6.1 in /usr/local/lib/python3.6/dist-packages (from pandas->discere) (2.8.1)\n",
            "Requirement already satisfied: six>=1.5 in /usr/local/lib/python3.6/dist-packages (from python-dateutil>=2.6.1->pandas->discere) (1.12.0)\n"
          ],
          "name": "stdout"
        }
      ]
    },
    {
      "cell_type": "code",
      "metadata": {
        "id": "K-tIILHGb_Ib",
        "colab_type": "code",
        "outputId": "017082dc-1c57-4856-8e68-319a6e886ccf",
        "colab": {
          "base_uri": "https://localhost:8080/",
          "height": 381
        }
      },
      "source": [
        "import discere.discere as di\n",
        "di.extract_feature('/content/drive/My Drive/Pemodelan Matematika/train_data_positive.fasta', \n",
        "                  '/content/drive/My Drive/Pemodelan Matematika/train_data_negative.fasta',\n",
        "                   '/content/drive/My Drive/Pemodelan Matematika/')"
      ],
      "execution_count": 0,
      "outputs": [
        {
          "output_type": "stream",
          "text": [
            "Processing fasta files....\n",
            "Cleaning existing data...\n"
          ],
          "name": "stdout"
        },
        {
          "output_type": "error",
          "ename": "FileNotFoundError",
          "evalue": "ignored",
          "traceback": [
            "\u001b[0;31m---------------------------------------------------------------------------\u001b[0m",
            "\u001b[0;31mFileNotFoundError\u001b[0m                         Traceback (most recent call last)",
            "\u001b[0;32m<ipython-input-54-eae31b241dbc>\u001b[0m in \u001b[0;36m<module>\u001b[0;34m()\u001b[0m\n\u001b[1;32m      2\u001b[0m di.extract_feature('/content/drive/My Drive/Pemodelan Matematika/train_data_positive.fasta', \n\u001b[1;32m      3\u001b[0m                   \u001b[0;34m'/content/drive/My Drive/Pemodelan Matematika/train_data_negative.fasta'\u001b[0m\u001b[0;34m,\u001b[0m\u001b[0;34m\u001b[0m\u001b[0;34m\u001b[0m\u001b[0m\n\u001b[0;32m----> 4\u001b[0;31m                    '/content/drive/My Drive/Pemodelan Matematika/')\n\u001b[0m",
            "\u001b[0;32m/usr/local/lib/python3.6/dist-packages/discere/discere.py\u001b[0m in \u001b[0;36mextract_feature\u001b[0;34m(positive, negative, outdir)\u001b[0m\n\u001b[1;32m     12\u001b[0m \u001b[0;34m\u001b[0m\u001b[0m\n\u001b[1;32m     13\u001b[0m \u001b[0;32mdef\u001b[0m \u001b[0mextract_feature\u001b[0m\u001b[0;34m(\u001b[0m\u001b[0mpositive\u001b[0m\u001b[0;34m,\u001b[0m \u001b[0mnegative\u001b[0m\u001b[0;34m,\u001b[0m \u001b[0moutdir\u001b[0m\u001b[0;34m)\u001b[0m\u001b[0;34m:\u001b[0m\u001b[0;34m\u001b[0m\u001b[0;34m\u001b[0m\u001b[0m\n\u001b[0;32m---> 14\u001b[0;31m         \u001b[0mcode\u001b[0m \u001b[0;34m=\u001b[0m \u001b[0mprocess_fasta\u001b[0m\u001b[0;34m.\u001b[0m\u001b[0mprocess_fasta\u001b[0m\u001b[0;34m(\u001b[0m\u001b[0mpositive\u001b[0m\u001b[0;34m,\u001b[0m \u001b[0mnegative\u001b[0m\u001b[0;34m,\u001b[0m \u001b[0moutdir\u001b[0m\u001b[0;34m)\u001b[0m\u001b[0;34m\u001b[0m\u001b[0;34m\u001b[0m\u001b[0m\n\u001b[0m\u001b[1;32m     15\u001b[0m         \u001b[0;32mif\u001b[0m \u001b[0mcode\u001b[0m \u001b[0;32mis\u001b[0m \u001b[0;32mTrue\u001b[0m\u001b[0;34m:\u001b[0m\u001b[0;34m\u001b[0m\u001b[0;34m\u001b[0m\u001b[0m\n\u001b[1;32m     16\u001b[0m                 \u001b[0mfeature_extraction\u001b[0m\u001b[0;34m.\u001b[0m\u001b[0mfeature_extraction\u001b[0m\u001b[0;34m(\u001b[0m\u001b[0moutdir\u001b[0m\u001b[0;34m)\u001b[0m\u001b[0;34m\u001b[0m\u001b[0;34m\u001b[0m\u001b[0m\n",
            "\u001b[0;32m/usr/local/lib/python3.6/dist-packages/discere/preprocessing/process_fasta.py\u001b[0m in \u001b[0;36mprocess_fasta\u001b[0;34m(positive, negative, outdir)\u001b[0m\n\u001b[1;32m      9\u001b[0m         \u001b[0;32mif\u001b[0m \u001b[0mos\u001b[0m\u001b[0;34m.\u001b[0m\u001b[0mpath\u001b[0m\u001b[0;34m.\u001b[0m\u001b[0misdir\u001b[0m\u001b[0;34m(\u001b[0m\u001b[0mpath_\u001b[0m\u001b[0;34m+\u001b[0m\u001b[0;34m\"/data\"\u001b[0m\u001b[0;34m)\u001b[0m \u001b[0;32mis\u001b[0m \u001b[0;32mTrue\u001b[0m\u001b[0;34m:\u001b[0m\u001b[0;34m\u001b[0m\u001b[0;34m\u001b[0m\u001b[0m\n\u001b[1;32m     10\u001b[0m                 \u001b[0mshutil\u001b[0m\u001b[0;34m.\u001b[0m\u001b[0mrmtree\u001b[0m\u001b[0;34m(\u001b[0m\u001b[0mpath_\u001b[0m\u001b[0;34m+\u001b[0m\u001b[0;34m\"/data\"\u001b[0m\u001b[0;34m)\u001b[0m\u001b[0;34m\u001b[0m\u001b[0;34m\u001b[0m\u001b[0m\n\u001b[0;32m---> 11\u001b[0;31m         \u001b[0mos\u001b[0m\u001b[0;34m.\u001b[0m\u001b[0mmkdir\u001b[0m\u001b[0;34m(\u001b[0m\u001b[0mpath_\u001b[0m\u001b[0;34m+\u001b[0m\u001b[0;34m\"/data\"\u001b[0m\u001b[0;34m)\u001b[0m\u001b[0;34m\u001b[0m\u001b[0;34m\u001b[0m\u001b[0m\n\u001b[0m\u001b[1;32m     12\u001b[0m \u001b[0;34m\u001b[0m\u001b[0m\n\u001b[1;32m     13\u001b[0m         \u001b[0m_\u001b[0m\u001b[0;34m=\u001b[0m\u001b[0;34m(\u001b[0m\u001b[0mos\u001b[0m\u001b[0;34m.\u001b[0m\u001b[0mpath\u001b[0m\u001b[0;34m.\u001b[0m\u001b[0mjoin\u001b[0m\u001b[0;34m(\u001b[0m\u001b[0mpath_\u001b[0m\u001b[0;34m,\u001b[0m\u001b[0;34m\"data/data.txt\"\u001b[0m\u001b[0;34m)\u001b[0m\u001b[0;34m)\u001b[0m\u001b[0;34m\u001b[0m\u001b[0;34m\u001b[0m\u001b[0m\n",
            "\u001b[0;31mFileNotFoundError\u001b[0m: [Errno 2] No such file or directory: '/content/drive/My Drive/Pemodelan Matematika//data'"
          ]
        }
      ]
    },
    {
      "cell_type": "code",
      "metadata": {
        "id": "9OzKW-kKcc5L",
        "colab_type": "code",
        "colab": {}
      },
      "source": [
        "df = pd.read_csv('/content/drive/My Drive/Pemodelan Matematika/output/tain_DL.csv',header=None)\n",
        "df.head()\n",
        "df[26]"
      ],
      "execution_count": 0,
      "outputs": []
    },
    {
      "cell_type": "code",
      "metadata": {
        "id": "uplwASd4qdZp",
        "colab_type": "code",
        "colab": {}
      },
      "source": [
        "X=df.iloc[:, :-1]\n",
        "X.head()"
      ],
      "execution_count": 0,
      "outputs": []
    },
    {
      "cell_type": "code",
      "metadata": {
        "id": "X2NAblQ7qrEb",
        "colab_type": "code",
        "colab": {}
      },
      "source": [
        "y=df.iloc[:,-1]\n",
        "\n",
        "def_encoder = LabelEncoder()\n",
        "y = def_encoder.fit_transform(y)\n"
      ],
      "execution_count": 0,
      "outputs": []
    },
    {
      "cell_type": "code",
      "metadata": {
        "id": "verAsHsisAeC",
        "colab_type": "code",
        "colab": {}
      },
      "source": [
        "scaler = StandardScaler()\n",
        "scaler.fit(X)\n",
        "X = scaler.transform(X)"
      ],
      "execution_count": 0,
      "outputs": []
    },
    {
      "cell_type": "code",
      "metadata": {
        "id": "mkN4aJAPsHbR",
        "colab_type": "code",
        "colab": {}
      },
      "source": [
        "X_train, X_test, y_train, y_test = train_test_split(X, y, test_size=0.2, random_state=1)"
      ],
      "execution_count": 0,
      "outputs": []
    },
    {
      "cell_type": "code",
      "metadata": {
        "id": "jjXvRdhasJoI",
        "colab_type": "code",
        "colab": {}
      },
      "source": [
        "pca = PCA(n_components=2, whiten=True).fit(X)\n",
        "X_pca = pca.transform(X)\n",
        "print(\"explained variance ratio:\", pca.explained_variance_ratio_)\n",
        "print(\"Preserved Variance:\", sum(pca.explained_variance_ratio_))\n",
        "\n",
        "# Print scatter plot to view classification of the simplified dataset\n",
        "colors = cycle('rgb')\n",
        "target_names = [0, 1]\n",
        "\n",
        "plt.figure()\n",
        "\n",
        "target_list = np.array(y).flatten()\n",
        "for t_name, c in zip(target_names, colors):\n",
        "    plt.scatter(X_pca[target_list == t_name, 0], X_pca[target_list ==t_name, 1], c=c, label=t_name)\n",
        "\n",
        "plt.legend()\n",
        "plt.show()"
      ],
      "execution_count": 0,
      "outputs": []
    },
    {
      "cell_type": "code",
      "metadata": {
        "id": "1WadvwFCsU0R",
        "colab_type": "code",
        "colab": {}
      },
      "source": [
        "X_train_pca, X_test_pca, y_train_pca, y_test_pca = train_test_split(X_pca, y, test_size=0.2, random_state=1)\n",
        "\n",
        "svc=SVC()\n",
        "svc.fit(X_train_pca,y_train_pca)\n",
        "y_pred_pca=svc.predict(X_test_pca)\n",
        "print('Accuracy Score:')\n",
        "print(metrics.accuracy_score(y_test_pca,y_pred_pca))"
      ],
      "execution_count": 0,
      "outputs": []
    },
    {
      "cell_type": "code",
      "metadata": {
        "id": "TrX5hDkqsc-I",
        "colab_type": "code",
        "colab": {}
      },
      "source": [
        "plt.scatter(X_pca[:, 0], X_pca[:, 1], c=y, s=50, cmap='autumn');\n",
        "plot_svc_decision_function(svc)"
      ],
      "execution_count": 0,
      "outputs": []
    },
    {
      "cell_type": "code",
      "metadata": {
        "colab_type": "code",
        "id": "ihIi0YIFs61E",
        "colab": {}
      },
      "source": [
        "svc=SVC()\n",
        "svc.fit(X_train,y_train)\n",
        "y_pred=svc.predict(X_test)\n",
        "print('Accuracy Score:')\n",
        "print(metrics.accuracy_score(y_test,y_pred))"
      ],
      "execution_count": 0,
      "outputs": []
    },
    {
      "cell_type": "code",
      "metadata": {
        "id": "rTvSGDhAs8kR",
        "colab_type": "code",
        "colab": {}
      },
      "source": [
        "svc=SVC(kernel='linear')\n",
        "svc.fit(X_train,y_train)\n",
        "y_pred=svc.predict(X_test)\n",
        "print('Accuracy Score:')\n",
        "print(metrics.accuracy_score(y_test,y_pred))"
      ],
      "execution_count": 0,
      "outputs": []
    },
    {
      "cell_type": "code",
      "metadata": {
        "id": "lxlIPE9VuhEK",
        "colab_type": "code",
        "colab": {}
      },
      "source": [
        "svc=SVC(kernel='rbf')\n",
        "svc.fit(X_train,y_train)\n",
        "y_pred=svc.predict(X_test)\n",
        "print('Accuracy Score:')\n",
        "print(metrics.accuracy_score(y_test,y_pred))"
      ],
      "execution_count": 0,
      "outputs": []
    },
    {
      "cell_type": "code",
      "metadata": {
        "id": "-BjVFK_dtKyL",
        "colab_type": "code",
        "colab": {}
      },
      "source": [
        "SVM_model=SVC()\n",
        "tuned_parameters = {\n",
        " 'C': np.arange(3,4,0.1) , 'kernel': ['linear','rbf','poly'],\n",
        " 'gamma': [0.01,0.013,0.015,0.017,0.02], \n",
        " 'degree': [0,1,2,3]\n",
        "                   }"
      ],
      "execution_count": 0,
      "outputs": []
    },
    {
      "cell_type": "code",
      "metadata": {
        "id": "moskBBw9tRPG",
        "colab_type": "code",
        "colab": {}
      },
      "source": [
        "model_svm = GridSearchCV(SVM_model, tuned_parameters,cv=5,scoring='accuracy')\n",
        "model_svm.fit(X_train, y_train)\n",
        "print(model_svm.best_score_)\n",
        "print(model_svm.best_params_)"
      ],
      "execution_count": 0,
      "outputs": []
    }
  ]
}